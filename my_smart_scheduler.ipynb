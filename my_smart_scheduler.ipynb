{
 "cells": [
  {
   "cell_type": "code",
   "execution_count": 4,
   "id": "b9af33e6",
   "metadata": {},
   "outputs": [
    {
     "name": "stdout",
     "output_type": "stream",
     "text": [
      "[{'title': '북카페세모', 'link': 'http://cafe.naver.com/semoclass/', 'category': '음식점>카페,디저트', 'description': '', 'telephone': '', 'address': '서울특별시 광진구 화양동 8-43', 'roadAddress': '서울특별시 광진구 아차산로31길 20 2층, 3층', 'mapx': '317993', 'mapy': '549269'}, {'title': '호야초밥참치 본점', 'link': '', 'category': '일식>초밥,롤', 'description': '', 'telephone': '', 'address': '서울특별시 광진구 화양동 10-1 1층', 'roadAddress': '서울특별시 광진구 능동로13길 39 1층', 'mapx': '317995', 'mapy': '549494'}, {'title': '스시오 <b>건대</b>점', 'link': 'https://sushiogundae.modoo.at', 'category': '음식점>일식,초밥뷔페', 'description': '', 'telephone': '', 'address': '서울특별시 광진구 화양동 3-22', 'roadAddress': '서울특별시 광진구 능동로 141', 'mapx': '318195', 'mapy': '549437'}]\n"
     ]
    }
   ],
   "source": [
    "#구글 애플리케이션을 등록해서 구글 캘린더 api를 사용하고,\n",
    "#네이버 애플리케이션에 등록해서 지역 검색 api를 사용\n",
    "\n",
    "\n",
    "import requests\n",
    "\n",
    "#네이버 애플리케이션의 client_id와 client_secret키 설정\n",
    "headers = {\n",
    "    \"X-Naver-Client-Id\" : \"8ROaw9rUz_iiYI5QyPR_\",\n",
    "    \"X-Naver-Client-Secret\" : \"YumdWGYhgG\"\n",
    "}\n",
    "\n",
    "#지역 검색 요청 마라미터 설정\n",
    "query = \"건대 맛집\"\n",
    "params = {\n",
    "    \"sort\" : \"comment\",\n",
    "    \"query\": query,\n",
    "    \"display\": 3\n",
    "}\n",
    "\n",
    "#지역 검색 url과 요청 파라미터\n",
    "naver_local_url = \"https://openapi.naver.com/v1/search/local.json\"\n",
    "\n",
    "#지역 검색 요청\n",
    "res = requests.get(naver_local_url, headers=headers, params=params)\n",
    "if res.status_code == 200:\n",
    "    #지역 검색 결과 확인\n",
    "    places = res.json().get('items')\n",
    "    print(places)"
   ]
  },
  {
   "cell_type": "code",
   "execution_count": 20,
   "id": "9040df76",
   "metadata": {},
   "outputs": [
    {
     "name": "stdout",
     "output_type": "stream",
     "text": [
      "Please visit this URL to authorize this application: https://accounts.google.com/o/oauth2/auth?response_type=code&client_id=675755398021-rjos50chpg4djpmkl11ln0pm1q6lcgjo.apps.googleusercontent.com&redirect_uri=http%3A%2F%2Flocalhost%3A52107%2F&scope=https%3A%2F%2Fwww.googleapis.com%2Fauth%2Fcalendar&state=XoKX8mAe7EOqLyvkFcDAIjH5U1smUX&access_type=offline\n"
     ]
    }
   ],
   "source": [
    "#구글캘린더 인증->사용자 인증 받기\n",
    "\n",
    "#필요한 라이브러리\n",
    "from google_auth_oauthlib.flow import InstalledAppFlow\n",
    "#구글 캘린더 API 서비스 객체 생성\n",
    "from googleapiclient.discovery import build\n",
    "import datetime\n",
    "\n",
    "#구글 클라우드 콘솔에서 다운받은 OAuth 2.0 클라이언트 파일 경로\n",
    "creds_filename = 'D:/22KJH/project/Python/8smart_scheduler/google_token.json'\n",
    "#사용 권한 지정\n",
    "#https://www.googleapis.com/auth/calendar.readonly 하면 읽기 권한만 허용\n",
    "SCOPES = ['https://www.googleapis.com/auth/calendar'] #읽기, 쓰기 권한 허용\n",
    "\n",
    "#파일에 담긴 인증 정보로 구글 서버에 인증하기\n",
    "#새 창이 열리면서 구글 로그인 및 정보 제공 동의 후 최종 인증이 완료\n",
    "flow = InstalledAppFlow.from_client_secrets_file(creds_filename, SCOPES)\n",
    "creds = flow.run_local_server(port=0)\n",
    "\n",
    "#구글에서 제공하는 클라이언트를 사용해 서비스 객체 생성\n",
    "service = build('calendar', 'v3', credentials=creds)"
   ]
  },
  {
   "cell_type": "code",
   "execution_count": 14,
   "id": "2d427286",
   "metadata": {},
   "outputs": [
    {
     "name": "stdout",
     "output_type": "stream",
     "text": [
      "Event created: https://www.google.com/calendar/event?eid=djFpMTFxZHIwczBsbmVicjNzcXU1Ymd2NTQganVuZ2h5dW5lZTI2QG0\n"
     ]
    }
   ],
   "source": [
    "#일정을 생성, 조회, 수정, 삭제(CRUD) 하기\n",
    "\n",
    "##일정 생성(Create)\n",
    "#일정을 생성할 날짜\n",
    "today = datetime.datetime.today().strftime(\"%Y-%m-%d\")\n",
    "\n",
    "event = {\n",
    "    'summary': '오늘 배워 오늘 쓰는 OpenAPI 수업', # 일정 제목\n",
    "    'location': '서울특별시 성북구 정릉동 정릉로 77', # 일정 장소\n",
    "    'description': 'OpenAPI 수업에 대한 설명입니다.', #일정 설명\n",
    "    'start': { #시작 날짜\n",
    "        'dateTime': today + 'T09:00:00',\n",
    "        'timeZone': 'Asia/Seoul',\n",
    "    },\n",
    "    'end': { # 종료 날짜\n",
    "        'dateTime': today + 'T10:00:00',\n",
    "        'timeZone': 'Asia/Seoul',\n",
    "    },\n",
    "    'attendees': [ #참석자\n",
    "        {'email': 'lpage#example@com'},\n",
    "        {'email': 'sbrin#example@com'},\n",
    "    ],\n",
    "    'reminders': { #알림 설정\n",
    "        'useDefault': False,\n",
    "        'overrides': [\n",
    "            {'method': 'email','minutes':24*60}, #24*60 = 하루 전 이메일 알림\n",
    "            {'method': 'popup','minutes':10}, #10분 전 팝업 알림\n",
    "        ],\n",
    "    },\n",
    "}\n",
    "\n",
    "#calendarId: 캘린더 ID/ primary가 기본값\n",
    "event = service.events().insert(calendarId='primary', body=event).execute()\n",
    "print('Event created: %s' % (event.get('htmlLink')))"
   ]
  },
  {
   "cell_type": "code",
   "execution_count": 17,
   "id": "3515aeaf",
   "metadata": {},
   "outputs": [
    {
     "name": "stdout",
     "output_type": "stream",
     "text": [
      "===== [일정 목록 출력] =====\n",
      "[{'kind': 'calendar#event', 'etag': '\"3285504051426000\"', 'id': 'dbmo2daats6905k18af2pjssec', 'status': 'confirmed', 'htmlLink': 'https://www.google.com/calendar/event?eid=ZGJtbzJkYWF0czY5MDVrMThhZjJwanNzZWMganVuZ2h5dW5lZTI2QG0', 'created': '2022-01-21T08:00:25.000Z', 'updated': '2022-01-21T08:00:25.747Z', 'summary': '오늘 배워 오늘 쓰는 OpenAPI 수업', 'description': 'OpenAPI 수업에 대한 설명입니다. 정말 재밌습니다.', 'location': '서울특별시 성북구 정릉동 정릉로 77', 'creator': {'email': 'junghyunee26@gmail.com', 'self': True}, 'organizer': {'email': 'junghyunee26@gmail.com', 'self': True}, 'start': {'dateTime': '2022-01-21T00:00:00Z', 'timeZone': 'Asia/Seoul'}, 'end': {'dateTime': '2022-01-21T01:00:00Z', 'timeZone': 'Asia/Seoul'}, 'iCalUID': 'dbmo2daats6905k18af2pjssec@google.com', 'sequence': 0, 'attendees': [{'email': 'sbrin@example.com', 'responseStatus': 'needsAction'}, {'email': 'lpage@example.com', 'responseStatus': 'needsAction'}], 'reminders': {'useDefault': False, 'overrides': [{'method': 'email', 'minutes': 1440}, {'method': 'popup', 'minutes': 10}]}, 'eventType': 'default'}, {'kind': 'calendar#event', 'etag': '\"3285504702105000\"', 'id': 'k30tcohvu1qupboipn79cj6vqs', 'status': 'confirmed', 'htmlLink': 'https://www.google.com/calendar/event?eid=azMwdGNvaHZ1MXF1cGJvaXBuNzljajZ2cXMganVuZ2h5dW5lZTI2QG0', 'created': '2022-01-21T08:05:50.000Z', 'updated': '2022-01-21T08:05:51.091Z', 'summary': '오늘 배워 오늘 쓰는 OpenAPI 수업', 'description': 'OpenAPI 수업에 대한 설명입니다. 정말 재밌습니다.', 'location': '서울특별시 성북구 정릉동 정릉로 77', 'creator': {'email': 'junghyunee26@gmail.com', 'self': True}, 'organizer': {'email': 'junghyunee26@gmail.com', 'self': True}, 'start': {'dateTime': '2022-01-21T00:00:00Z', 'timeZone': 'Asia/Seoul'}, 'end': {'dateTime': '2022-01-21T01:00:00Z', 'timeZone': 'Asia/Seoul'}, 'iCalUID': 'k30tcohvu1qupboipn79cj6vqs@google.com', 'sequence': 0, 'attendees': [{'email': 'sbrin@example.com', 'responseStatus': 'needsAction'}, {'email': 'lpage@example.com', 'responseStatus': 'needsAction'}], 'reminders': {'useDefault': False, 'overrides': [{'method': 'email', 'minutes': 1440}, {'method': 'popup', 'minutes': 10}]}, 'eventType': 'default'}, {'kind': 'calendar#event', 'etag': '\"3285504865594000\"', 'id': 'v1i11qdr0s0lnebr3squ5bgv54', 'status': 'confirmed', 'htmlLink': 'https://www.google.com/calendar/event?eid=djFpMTFxZHIwczBsbmVicjNzcXU1Ymd2NTQganVuZ2h5dW5lZTI2QG0', 'created': '2022-01-21T08:07:12.000Z', 'updated': '2022-01-21T08:07:12.837Z', 'summary': '오늘 배워 오늘 쓰는 OpenAPI 수업', 'description': 'OpenAPI 수업에 대한 설명입니다.', 'location': '서울특별시 성북구 정릉동 정릉로 77', 'creator': {'email': 'junghyunee26@gmail.com', 'self': True}, 'organizer': {'email': 'junghyunee26@gmail.com', 'self': True}, 'start': {'dateTime': '2022-01-21T00:00:00Z', 'timeZone': 'Asia/Seoul'}, 'end': {'dateTime': '2022-01-21T01:00:00Z', 'timeZone': 'Asia/Seoul'}, 'iCalUID': 'v1i11qdr0s0lnebr3squ5bgv54@google.com', 'sequence': 0, 'attendees': [{'email': 'sbrin#example@com', 'responseStatus': 'needsAction'}, {'email': 'lpage#example@com', 'responseStatus': 'needsAction'}], 'reminders': {'useDefault': False, 'overrides': [{'method': 'email', 'minutes': 1440}, {'method': 'popup', 'minutes': 10}]}, 'eventType': 'default'}]\n"
     ]
    }
   ],
   "source": [
    "##일정 조회(Road)\n",
    "#조회에 사용될 요청 변수 지정\n",
    "calendar_id = 'primary'\n",
    "\n",
    "time_min = today + 'T00:00:00+09:00' #일정을 조회할 최소 날짜\n",
    "time_max = today + 'T23:59:59+09:00:00' #일정을 조회할 최대 날짜\n",
    "max_results = 5 #조회할 최대 일정 개수\n",
    "is_single_events = True #반복 일정의 여부\n",
    "orderby = 'startTime' #일정 정렬 방식\n",
    "\n",
    "events_result = service.events().list(calendarId = calendar_id,\n",
    "                                    timeMin = time_min,\n",
    "                                    timeMax = time_max,\n",
    "                                    maxResults = max_results,\n",
    "                                    singleEvents = is_single_events,\n",
    "                                    orderBy = orderby\n",
    "                                    ).execute()\n",
    "\n",
    "items = events_result.get('items')\n",
    "print(\"===== [일정 목록 출력] =====\")\n",
    "print(items)"
   ]
  },
  {
   "cell_type": "code",
   "execution_count": 18,
   "id": "233903c7",
   "metadata": {},
   "outputs": [],
   "source": [
    "##일정 수정(Update)\n",
    "event = events_result.get('items')[0] #events_result를 리스트로 만들었으니까 [0]로 찾음\n",
    "event_id = event.get('id') #아이디값을 가져와서(어떤 일정인지를 지정)\n",
    "\n",
    "#원하는 일정(list[0])의 속성을 수정\n",
    "event['summary'] = \"(수정된)\" + event['summary']\n",
    "\n",
    "#일정 수정 요청하기\n",
    "updated_event = service.events().update(calendarId='primary', eventId = event_id, body = event).execute()"
   ]
  },
  {
   "cell_type": "code",
   "execution_count": 19,
   "id": "01a743cb",
   "metadata": {},
   "outputs": [
    {
     "data": {
      "text/plain": [
       "''"
      ]
     },
     "execution_count": 19,
     "metadata": {},
     "output_type": "execute_result"
    }
   ],
   "source": [
    "##일정 삭제(Delete)\n",
    "#eventId: 일정을 조회한 후 얻은 id 값\n",
    "eventId = updated_event.get('id')\n",
    "service.events().delete(calendarId ='primary', eventId = event_id).execute()"
   ]
  },
  {
   "cell_type": "code",
   "execution_count": 21,
   "id": "03ecc47b",
   "metadata": {},
   "outputs": [
    {
     "name": "stdout",
     "output_type": "stream",
     "text": [
      "Please visit this URL to authorize this application: https://accounts.google.com/o/oauth2/auth?response_type=code&client_id=675755398021-rjos50chpg4djpmkl11ln0pm1q6lcgjo.apps.googleusercontent.com&redirect_uri=http%3A%2F%2Flocalhost%3A52117%2F&scope=https%3A%2F%2Fwww.googleapis.com%2Fauth%2Fcalendar&state=GVC3zdhxHCmyyg8AgSozoYLeP4od5e&access_type=offline\n"
     ]
    }
   ],
   "source": [
    "#구현하기\n",
    "\n",
    "#필요한 라이브러리\n",
    "from google_auth_oauthlib.flow import InstalledAppFlow\n",
    "#구글 캘린더 API 서비스 객체 생성\n",
    "from googleapiclient.discovery import build\n",
    "import datetime\n",
    "\n",
    "#구글 클라우드 콘솔에서 다운받은 OAuth 2.0 클라이언트 파일 경로\n",
    "creds_filename = 'D:/22KJH/project/Python/8smart_scheduler/google_token.json'\n",
    "#사용 권한 지정\n",
    "#https://www.googleapis.com/auth/calendar.readonly 하면 읽기 권한만 허용\n",
    "SCOPES = ['https://www.googleapis.com/auth/calendar'] #읽기, 쓰기 권한 허용\n",
    "\n",
    "#파일에 담긴 인증 정보로 구글 서버에 인증하기\n",
    "#새 창이 열리면서 구글 로그인 및 정보 제공 동의 후 최종 인증이 완료\n",
    "flow = InstalledAppFlow.from_client_secrets_file(creds_filename, SCOPES)\n",
    "creds = flow.run_local_server(port=0)\n",
    "\n",
    "#구글에서 제공하는 클라이언트를 사용해 서비스 객체 생성\n",
    "service = build('calendar', 'v3', credentials=creds)"
   ]
  },
  {
   "cell_type": "code",
   "execution_count": 27,
   "id": "6ebd2c4b",
   "metadata": {},
   "outputs": [
    {
     "name": "stdout",
     "output_type": "stream",
     "text": [
      "===== [일정 목록 출력] =====\n",
      "[{'kind': 'calendar#event', 'etag': '\"3285504702105000\"', 'id': 'k30tcohvu1qupboipn79cj6vqs', 'status': 'confirmed', 'htmlLink': 'https://www.google.com/calendar/event?eid=azMwdGNvaHZ1MXF1cGJvaXBuNzljajZ2cXMganVuZ2h5dW5lZTI2QG0', 'created': '2022-01-21T08:05:50.000Z', 'updated': '2022-01-21T08:05:51.091Z', 'summary': '오늘 배워 오늘 쓰는 OpenAPI 수업', 'description': 'OpenAPI 수업에 대한 설명입니다. 정말 재밌습니다.', 'location': '서울특별시 성북구 정릉동 정릉로 77', 'creator': {'email': 'junghyunee26@gmail.com', 'self': True}, 'organizer': {'email': 'junghyunee26@gmail.com', 'self': True}, 'start': {'dateTime': '2022-01-21T09:00:00+09:00', 'timeZone': 'Asia/Seoul'}, 'end': {'dateTime': '2022-01-21T10:00:00+09:00', 'timeZone': 'Asia/Seoul'}, 'iCalUID': 'k30tcohvu1qupboipn79cj6vqs@google.com', 'sequence': 0, 'attendees': [{'email': 'sbrin@example.com', 'responseStatus': 'needsAction'}, {'email': 'lpage@example.com', 'responseStatus': 'needsAction'}], 'reminders': {'useDefault': False, 'overrides': [{'method': 'email', 'minutes': 1440}, {'method': 'popup', 'minutes': 10}]}, 'eventType': 'default'}, {'kind': 'calendar#event', 'etag': '\"3285504865594000\"', 'id': 'v1i11qdr0s0lnebr3squ5bgv54', 'status': 'confirmed', 'htmlLink': 'https://www.google.com/calendar/event?eid=djFpMTFxZHIwczBsbmVicjNzcXU1Ymd2NTQganVuZ2h5dW5lZTI2QG0', 'created': '2022-01-21T08:07:12.000Z', 'updated': '2022-01-21T08:07:12.837Z', 'summary': '오늘 배워 오늘 쓰는 OpenAPI 수업', 'description': 'OpenAPI 수업에 대한 설명입니다.', 'location': '서울특별시 성북구 정릉동 정릉로 77', 'creator': {'email': 'junghyunee26@gmail.com', 'self': True}, 'organizer': {'email': 'junghyunee26@gmail.com', 'self': True}, 'start': {'dateTime': '2022-01-21T09:00:00+09:00', 'timeZone': 'Asia/Seoul'}, 'end': {'dateTime': '2022-01-21T10:00:00+09:00', 'timeZone': 'Asia/Seoul'}, 'iCalUID': 'v1i11qdr0s0lnebr3squ5bgv54@google.com', 'sequence': 0, 'attendees': [{'email': 'sbrin#example@com', 'responseStatus': 'needsAction'}, {'email': 'lpage#example@com', 'responseStatus': 'needsAction'}], 'reminders': {'useDefault': False, 'overrides': [{'method': 'email', 'minutes': 1440}, {'method': 'popup', 'minutes': 10}]}, 'eventType': 'default'}, {'kind': 'calendar#event', 'etag': '\"3285510499482000\"', 'id': '03jspavpbb3tqmr2k6vsq74g3s', 'status': 'confirmed', 'htmlLink': 'https://www.google.com/calendar/event?eid=MDNqc3BhdnBiYjN0cW1yMms2dnNxNzRnM3MganVuZ2h5dW5lZTI2QG0', 'created': '2022-01-21T08:54:09.000Z', 'updated': '2022-01-21T08:54:09.741Z', 'summary': '[식사-건대] 건대 식사 모임', 'creator': {'email': 'junghyunee26@gmail.com', 'self': True}, 'organizer': {'email': 'junghyunee26@gmail.com', 'self': True}, 'start': {'dateTime': '2022-01-21T18:00:00+09:00', 'timeZone': 'Asia/Seoul'}, 'end': {'dateTime': '2022-01-21T19:00:00+09:00', 'timeZone': 'Asia/Seoul'}, 'iCalUID': '03jspavpbb3tqmr2k6vsq74g3s@google.com', 'sequence': 0, 'reminders': {'useDefault': True}, 'eventType': 'default'}]\n",
      "\n",
      "\n",
      " ===== [일정 상세 정보 출력] =====\n",
      "category:  식사\n",
      "location:  건대\n",
      "event_url:  https://www.google.com/calendar/event?eid=MDNqc3BhdnBiYjN0cW1yMms2dnNxNzRnM3MganVuZ2h5dW5lZTI2QG0\n"
     ]
    }
   ],
   "source": [
    "#조회에 사용될 요청 변수 지정\n",
    "calendar_id = 'primary'\n",
    "today = datetime.datetime.today().strftime(\"%Y-%m-%d\")\n",
    "\n",
    "time_min = today + 'T00:00:00+09:00' #일정을 조회할 최소 날짜\n",
    "time_max = today + 'T23:59:59+09:00:00' #일정을 조회할 최대 날짜\n",
    "max_results = 5 #조회할 최대 일정 개수\n",
    "is_single_events = True #반복 일정의 여부\n",
    "orderby = 'startTime' #일정 정렬 방식\n",
    "\n",
    "#오늘의 일정 가져오기\n",
    "events_result = service.events().list(calendarId = calendar_id,\n",
    "                                    timeMin = time_min,\n",
    "                                    timeMax = time_max,\n",
    "                                    maxResults = max_results,\n",
    "                                    singleEvents = is_single_events,\n",
    "                                    orderBy = orderby\n",
    "                                    ).execute()\n",
    "\n",
    "items = events_result.get('items')\n",
    "print(\"===== [일정 목록 출력] =====\")\n",
    "print(items)\n",
    "item = items[2] #테스트를 위해 오늘 일정 중 하나만 가져옴\n",
    "\n",
    "#일정 제목\n",
    "gsummary = item.get('summary')\n",
    "\n",
    "#일정 제목에서 [식사-국민대]에서 카테고리-장소 를 -를 기준으로 추출\n",
    "gcategory, glocation = gsummary[gsummary.index('[')+1:gsummary.index(']')].split('-')\n",
    "\n",
    "#구글 캘린더 일정이 연결되어 있는 링크\n",
    "gevent_url = item.get('htmlLink')\n",
    "\n",
    "print(\"\\n\\n ===== [일정 상세 정보 출력] =====\")\n",
    "print(\"category: \", gcategory)\n",
    "print(\"location: \", glocation)\n",
    "print(\"event_url: \", gevent_url)"
   ]
  },
  {
   "cell_type": "code",
   "execution_count": 32,
   "id": "8604b45e",
   "metadata": {},
   "outputs": [
    {
     "name": "stdout",
     "output_type": "stream",
     "text": [
      "[{'title': '북카페세모', 'link': 'http://cafe.naver.com/semoclass/', 'category': '음식점>카페,디저트', 'description': '', 'telephone': '', 'address': '서울특별시 광진구 화양동 8-43', 'roadAddress': '서울특별시 광진구 아차산로31길 20 2층, 3층', 'mapx': '317993', 'mapy': '549269'}, {'title': '호야초밥참치 본점', 'link': '', 'category': '일식>초밥,롤', 'description': '', 'telephone': '', 'address': '서울특별시 광진구 화양동 10-1 1층', 'roadAddress': '서울특별시 광진구 능동로13길 39 1층', 'mapx': '317995', 'mapy': '549494'}, {'title': '스시오 <b>건대</b>점', 'link': 'https://sushiogundae.modoo.at', 'category': '음식점>일식,초밥뷔페', 'description': '', 'telephone': '', 'address': '서울특별시 광진구 화양동 3-22', 'roadAddress': '서울특별시 광진구 능동로 141', 'mapx': '318195', 'mapy': '549437'}]\n"
     ]
    }
   ],
   "source": [
    "##네이버 지역 검색으로 맛집 검색\n",
    "import requests\n",
    "\n",
    "#네이버 애플리케이션의 client_id와 client_secret키 설정\n",
    "headers = {\n",
    "    \"X-Naver-Client-Id\" : \"8ROaw9rUz_iiYI5QyPR_\",\n",
    "    \"X-Naver-Client-Secret\" : \"YumdWGYhgG\"\n",
    "}\n",
    "\n",
    "#지역 검색 요청 마라미터 설정\n",
    "query = glocation + \"맛집\"\n",
    "params = {\n",
    "    \"sort\" : \"comment\",\n",
    "    \"query\": query,\n",
    "    \"display\": 3\n",
    "}\n",
    "\n",
    "#지역 검색 url과 요청 파라미터\n",
    "naver_local_url = \"https://openapi.naver.com/v1/search/local.json\"\n",
    "\n",
    "#지역 검색 요청\n",
    "res = requests.get(naver_local_url, headers=headers, params=params)\n",
    "\n",
    "#지역 검색 결과 확인\n",
    "places = res.json().get('items')\n",
    "print(places)"
   ]
  },
  {
   "cell_type": "code",
   "execution_count": 35,
   "id": "5efa57ce",
   "metadata": {},
   "outputs": [
    {
     "name": "stdout",
     "output_type": "stream",
     "text": [
      "{'access_token': 'o49xT-xUNQE5Z2ngUpBzfosV0mnbKIvuEVfV_wo9dRsAAAF-e-Z6Uw', 'token_type': 'bearer', 'expires_in': 21599}\n"
     ]
    },
    {
     "data": {
      "text/plain": [
       "{'access_token': 'o49xT-xUNQE5Z2ngUpBzfosV0mnbKIvuEVfV_wo9dRsAAAF-e-Z6Uw',\n",
       " 'token_type': 'bearer',\n",
       " 'refresh_token': '3NMYGq_hOmv-n4vzc4x6CaGlikz9gjGVuvBk8QopyV4AAAF-dgXVpg',\n",
       " 'expires_in': 21599,\n",
       " 'scope': 'account_email profile_image talk_message profile_nickname',\n",
       " 'refresh_token_expires_in': 5183999}"
      ]
     },
     "execution_count": 35,
     "metadata": {},
     "output_type": "execute_result"
    }
   ],
   "source": [
    "##카카오톡 메세지 보내기\n",
    "\n",
    "import json\n",
    "import kakao_utils\n",
    "\n",
    "KAKAO_TOKEN_FILENAME = \"D:/22KJH/project/Python/7summarize_news/kakao_token.json\"\n",
    "KAKAO_APP_KEY = \"5667bb7ce28bd6798e5f51bd12b0c0fc\"\n",
    "kakao_utils.update_tokens(KAKAO_APP_KEY, KAKAO_TOKEN_FILENAME)"
   ]
  },
  {
   "cell_type": "code",
   "execution_count": 41,
   "id": "19b5ab18",
   "metadata": {},
   "outputs": [
    {
     "name": "stdout",
     "output_type": "stream",
     "text": [
      "일정 맞춤 맛집을 성공적으로 보냈습니다.\n"
     ]
    }
   ],
   "source": [
    "#일정 주소 네이버 연결할 링크\n",
    "gaddr_url = \"https://search.naver.com/search.naver?query=\" + glocation + \"맛집\"\n",
    "#contents 변수를 초기화\n",
    "contents = []\n",
    "\n",
    "#카카오톡 리스트 템플릿 작성\n",
    "template = {\n",
    "    \"object_type\": \"list\",\n",
    "    \"header_title\" : gsummary + \"- 맛집 추천\",\n",
    "    \"header_link\": {\n",
    "        \"web_url\": gevent_url,\n",
    "        \"mobile_web_url\": gevent_url\n",
    "    },\n",
    "    \"contents\": contents,\n",
    "    \"buttons\": [\n",
    "        {\n",
    "            \"title\": \"일정 자세히 보기\",\n",
    "            \"link\": {\n",
    "                \"web_url\": gevent_url,\n",
    "                \"mobile_web_url\": gevent_url\n",
    "            }\n",
    "        },\n",
    "        {\n",
    "            \"title\": \"일정 장소 보기\",\n",
    "            \"link\": {\n",
    "                \"web_url\": gaddr_url,\n",
    "                \"mobile_web_url\": gaddr_url\n",
    "            }\n",
    "        }\n",
    "    ],\n",
    "}\n",
    "\n",
    "#카카오톡 리스트 템플릿의 contents를 구성\n",
    "for place in places:\n",
    "    ntitle = place.get('title') #장소 이름\n",
    "    ncategory = place.get('category') #장소 카테고리\n",
    "    ntelephone = place.get('telephone') #장소 전화번호\n",
    "    nlocation = place.get('address') #장소 지번 주소\n",
    "    \n",
    "    #각 장소를 클릭할 때 네이버 검색으로 연결해주기\n",
    "    query = nlocation + ' ' + ntitle\n",
    "    \n",
    "    #장소 카테고리가 카페면 카페 이미지/ 그 외에는 음식 이미지\n",
    "    if '카페' in ncategory:\n",
    "        image_url = \"https://freesvg.org/img/pitr_Coffee_cup_icon.png\"\n",
    "    else:\n",
    "        image_url = \"https://freesvg.org/img/bentolunch.png?w=150&h=150&fit=fill\"\n",
    "        \n",
    "    #전화번호가 있다면 제목과 함께 넣어준다.\n",
    "    if ntelephone:\n",
    "        ntitle = ntitle + \"\\ntel)\" + ntelephone\n",
    "        \n",
    "    #카카오톡 리스트 템플릿 형식에 맞춰줌\n",
    "    content = {\n",
    "        \"title\": \"[\" + ncategory + \"]\" + ntitle,\n",
    "        \"description\": ' '.join(nlocation.split('-')[1:]),\n",
    "        \"image_url\" : \"https://freesvg.org/img/pitr_Coffee_cup_icon.png\",\n",
    "        \"image_width\" : 50, \"image_height\" : 50,\n",
    "        \"link\" : {\n",
    "            \"web_url\": \"https://search.naver.com/search.naver?query=\" + query,\n",
    "            \"mobie_web_url\" : \"https://search.naver.com/search.naver?query=\" + query\n",
    "        }\n",
    "    }\n",
    "    contents.append(content)\n",
    "    \n",
    "#카톡 전송\n",
    "res = kakao_utils.send_message(KAKAO_TOKEN_FILENAME, template)\n",
    "if res.json().get('result_code') == 0:\n",
    "    print('일정 맞춤 맛집을 성공적으로 보냈습니다.')\n",
    "else:\n",
    "    print('일정 맞춤 맛집을 성공적으로 보내지 못했습니다. 오류메세지: ',  res.json())"
   ]
  },
  {
   "cell_type": "code",
   "execution_count": null,
   "id": "e2e1198b",
   "metadata": {},
   "outputs": [],
   "source": []
  }
 ],
 "metadata": {
  "kernelspec": {
   "display_name": "Python 3 (ipykernel)",
   "language": "python",
   "name": "python3"
  },
  "language_info": {
   "codemirror_mode": {
    "name": "ipython",
    "version": 3
   },
   "file_extension": ".py",
   "mimetype": "text/x-python",
   "name": "python",
   "nbconvert_exporter": "python",
   "pygments_lexer": "ipython3",
   "version": "3.9.7"
  }
 },
 "nbformat": 4,
 "nbformat_minor": 5
}
